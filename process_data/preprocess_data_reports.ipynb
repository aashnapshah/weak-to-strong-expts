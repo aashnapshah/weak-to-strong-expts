{
 "cells": [
  {
   "cell_type": "code",
   "execution_count": 1,
   "id": "d53ef4fe",
   "metadata": {},
   "outputs": [],
   "source": [
    "import math\n",
    "import numpy as np\n",
    "import pandas as pd\n",
    "from scipy.stats import norm\n",
    "import scipy\n",
    "import matplotlib.pyplot as plt\n",
    "import seaborn as sns\n",
    "from tqdm import tqdm\n",
    "import json\n",
    "import copy\n",
    "import matplotlib\n",
    "import time\n",
    "import re\n",
    "import random\n",
    "from sklearn.model_selection import train_test_split"
   ]
  },
  {
   "cell_type": "code",
   "execution_count": 297,
   "id": "448e0a12",
   "metadata": {},
   "outputs": [],
   "source": [
    "df = pd.read_csv('data/mimic-cxr-2.0.0-chexpert.csv')"
   ]
  },
  {
   "cell_type": "code",
   "execution_count": 299,
   "id": "422d2b00",
   "metadata": {},
   "outputs": [
    {
     "name": "stdout",
     "output_type": "stream",
     "text": [
      "4637.0\n",
      "841.0\n",
      "1400.0\n",
      "4792.0\n",
      "13301.0\n",
      "2345.0\n",
      "6225.0\n",
      "4562.0\n",
      "2973.0\n",
      "74045\n"
     ]
    }
   ],
   "source": [
    "l = ['Atelectasis', 'Enlarged Cardiomediastinum', 'Fracture', 'Lung Opacity', 'Support Devices',\n",
    "     'Edema', 'Cardiomegaly', 'Pleural Effusion', 'Pneumonia']\n",
    "df1 = pd.DataFrame()\n",
    "s = set(range(len(l)))\n",
    "for i in range(len(l)):\n",
    "    res = df[(df[l[i]] == 1)]\n",
    "    diff = s-{i}\n",
    "    for j in diff:\n",
    "        res = res[((res[l[j]] == 0) | (res[l[j]].isna()))]\n",
    "    \n",
    "    df1 = pd.concat([df1, res], ignore_index=False)\n",
    "    \n",
    "for i in l:\n",
    "    print(df1[i].sum())\n",
    "# print(len(df1))\n",
    "\n",
    "\n",
    "res = df.copy()\n",
    "for i in l:\n",
    "    res = res[(res[i] != -1) & (res[i] != 1)]\n",
    "\n",
    "print(len(res))"
   ]
  },
  {
   "cell_type": "code",
   "execution_count": 300,
   "id": "8dd4562c",
   "metadata": {},
   "outputs": [],
   "source": [
    "res = res.sample(10000, random_state=42)\n",
    "res['None'] = 1"
   ]
  },
  {
   "cell_type": "code",
   "execution_count": 302,
   "id": "c06033d0",
   "metadata": {},
   "outputs": [],
   "source": [
    "final = pd.concat([df1, res], ignore_index=True)"
   ]
  },
  {
   "cell_type": "code",
   "execution_count": 303,
   "id": "f2ad630a",
   "metadata": {},
   "outputs": [],
   "source": [
    "final = final[['subject_id', 'study_id'] + l + ['None']]"
   ]
  },
  {
   "cell_type": "code",
   "execution_count": 304,
   "id": "cfa62062",
   "metadata": {},
   "outputs": [],
   "source": [
    "final = final.fillna(0)"
   ]
  },
  {
   "cell_type": "code",
   "execution_count": 307,
   "id": "40da3edb",
   "metadata": {},
   "outputs": [],
   "source": [
    "for idx, row in final.iterrows():\n",
    "    found = False\n",
    "    for i in l + ['None']:\n",
    "        if row[i] == 1:\n",
    "            found = True\n",
    "            break\n",
    "            \n",
    "    if not found:\n",
    "        print(row)"
   ]
  },
  {
   "cell_type": "code",
   "execution_count": 308,
   "id": "51fa4f07",
   "metadata": {},
   "outputs": [],
   "source": [
    "report_list = []\n",
    "for idx, row in final.iterrows():\n",
    "    subject_id = str(int(row['subject_id']))\n",
    "    study_id = str(int(row['study_id']))\n",
    "    \n",
    "    fn = f'data/files/p{subject_id[:2]}/p{subject_id}/s{study_id}.txt'\n",
    "    with open(fn) as f:\n",
    "        report_list.append(f.read())"
   ]
  },
  {
   "cell_type": "code",
   "execution_count": 309,
   "id": "2a96870e",
   "metadata": {},
   "outputs": [],
   "source": [
    "final['report'] = report_list"
   ]
  },
  {
   "cell_type": "code",
   "execution_count": 310,
   "id": "b84fd7c4",
   "metadata": {},
   "outputs": [],
   "source": [
    "def parse_report(x):\n",
    "    if 'IMPRESSION' in x:\n",
    "        return x.split('IMPRESSION:')[-1].strip()\n",
    "    \n",
    "    if 'FINDINGS' in x:\n",
    "        return x.split('FINDINGS:')[-1].strip()\n",
    "    \n",
    "    ## otherwise, find the last subsection (the one with all caps) and split from there\n",
    "    candidates = re.findall(r'[A-Z:]+', x)\n",
    "    cands1 = []\n",
    "    for i in candidates:\n",
    "        if i[-1] == ':' and len(i) > 1:\n",
    "            cands1.append(i)\n",
    "    # take the last one\n",
    "    if len(cands1) > 0:\n",
    "        return x.split(cands1[-1])[-1].strip()\n",
    "    else:\n",
    "        return x\n",
    "\n",
    "final['report_small'] = final['report'].apply(lambda x: parse_report(x))"
   ]
  },
  {
   "cell_type": "code",
   "execution_count": 313,
   "id": "795ebff4",
   "metadata": {},
   "outputs": [],
   "source": [
    "classes = []\n",
    "for idx, row in final.iterrows():\n",
    "    found = False\n",
    "    for col in l:\n",
    "        if row[col] == 1:\n",
    "            classes.append(col)\n",
    "            found = True\n",
    "            break\n",
    "    \n",
    "    if not found:\n",
    "        classes.append('None of the Above')\n",
    "\n",
    "final['label'] = classes"
   ]
  },
  {
   "cell_type": "code",
   "execution_count": 318,
   "id": "599af0ac",
   "metadata": {},
   "outputs": [
    {
     "name": "stdout",
     "output_type": "stream",
     "text": [
      "Based on the report, which condition does this patient have? Pick one:\n",
      "1) Atelectasis\n",
      "2) Enlarged Cardiomediastinum\n",
      "3) Fracture\n",
      "4) Lung Opacity\n",
      "5) Support Devices\n",
      "6) Edema\n",
      "7) Cardiomegaly\n",
      "8) Pleural Effusion\n",
      "9) Pneumonia\n"
     ]
    }
   ],
   "source": [
    "options = 'Based on the report, which condition does this patient have? Pick one:'\n",
    "for i, j in enumerate(l):\n",
    "    options += f'\\n{i+1}) {j}'\n",
    "    \n",
    "print(options)"
   ]
  },
  {
   "cell_type": "code",
   "execution_count": 319,
   "id": "d79a4d9f",
   "metadata": {},
   "outputs": [],
   "source": [
    "s = set(l)\n",
    "distraction1 = []\n",
    "distraction2 = []\n",
    "for idx, row in final.iterrows():\n",
    "    s_prime = list(s - {row['label']})\n",
    "    h = random.sample(s_prime, 2)\n",
    "    distraction1.append(h[0])\n",
    "    distraction2.append(h[1])"
   ]
  },
  {
   "cell_type": "code",
   "execution_count": 320,
   "id": "969a1eb4",
   "metadata": {},
   "outputs": [],
   "source": [
    "final['distraction1'] = distraction1\n",
    "final['distraction2'] = distraction2"
   ]
  },
  {
   "cell_type": "code",
   "execution_count": 321,
   "id": "e5d3678e",
   "metadata": {},
   "outputs": [],
   "source": [
    "final = final.drop(columns=l+['None'])"
   ]
  },
  {
   "cell_type": "code",
   "execution_count": 322,
   "id": "54fa4b6d",
   "metadata": {},
   "outputs": [],
   "source": [
    "non = final[final['label'] == 'None of the Above']"
   ]
  },
  {
   "cell_type": "code",
   "execution_count": 323,
   "id": "2d8cbf20",
   "metadata": {},
   "outputs": [
    {
     "name": "stderr",
     "output_type": "stream",
     "text": [
      "/var/folders/qk/795n1f2x2fzd_vsf3p0h12xc0000gp/T/ipykernel_14823/947450997.py:1: SettingWithCopyWarning: \n",
      "A value is trying to be set on a copy of a slice from a DataFrame.\n",
      "Try using .loc[row_indexer,col_indexer] = value instead\n",
      "\n",
      "See the caveats in the documentation: https://pandas.pydata.org/pandas-docs/stable/user_guide/indexing.html#returning-a-view-versus-a-copy\n",
      "  non['hard_label'] = 0\n"
     ]
    }
   ],
   "source": [
    "non['hard_label'] = 0"
   ]
  },
  {
   "cell_type": "code",
   "execution_count": 324,
   "id": "159fcdce",
   "metadata": {},
   "outputs": [],
   "source": [
    "non1 = final[final['label'] != 'None of the Above']"
   ]
  },
  {
   "cell_type": "code",
   "execution_count": 325,
   "id": "b83a242a",
   "metadata": {},
   "outputs": [],
   "source": [
    "rng = np.random.default_rng(12345)"
   ]
  },
  {
   "cell_type": "code",
   "execution_count": 326,
   "id": "994f6751",
   "metadata": {},
   "outputs": [
    {
     "name": "stderr",
     "output_type": "stream",
     "text": [
      "/var/folders/qk/795n1f2x2fzd_vsf3p0h12xc0000gp/T/ipykernel_14823/216510174.py:1: SettingWithCopyWarning: \n",
      "A value is trying to be set on a copy of a slice from a DataFrame.\n",
      "Try using .loc[row_indexer,col_indexer] = value instead\n",
      "\n",
      "See the caveats in the documentation: https://pandas.pydata.org/pandas-docs/stable/user_guide/indexing.html#returning-a-view-versus-a-copy\n",
      "  non1['hard_label'] = rng.random(len(non1)) > 0.4\n"
     ]
    }
   ],
   "source": [
    "non1['hard_label'] = rng.random(len(non1)) > 0.4"
   ]
  },
  {
   "cell_type": "code",
   "execution_count": 327,
   "id": "3fa3823f",
   "metadata": {},
   "outputs": [],
   "source": [
    "final1 = pd.concat([non, non1], ignore_index=True)"
   ]
  },
  {
   "cell_type": "code",
   "execution_count": 328,
   "id": "691e3f92",
   "metadata": {},
   "outputs": [
    {
     "data": {
      "text/plain": [
       "0.48320150364163206"
      ]
     },
     "execution_count": 328,
     "metadata": {},
     "output_type": "execute_result"
    }
   ],
   "source": [
    "final1['hard_label'].mean()"
   ]
  },
  {
   "cell_type": "code",
   "execution_count": 329,
   "id": "b8e82a59",
   "metadata": {},
   "outputs": [],
   "source": [
    "X, y = final1[[i for i in final1.columns if i != 'hard_label']], final1['hard_label']"
   ]
  },
  {
   "cell_type": "code",
   "execution_count": 330,
   "id": "dc537888",
   "metadata": {},
   "outputs": [],
   "source": [
    "X_train, X_test, y_train, y_test = train_test_split(X, y, test_size=0.2, random_state=42, stratify=y)"
   ]
  },
  {
   "cell_type": "code",
   "execution_count": 331,
   "id": "0b518895",
   "metadata": {},
   "outputs": [
    {
     "name": "stdout",
     "output_type": "stream",
     "text": [
      "0.483210964268233\n",
      "0.4831636648394675\n"
     ]
    }
   ],
   "source": [
    "train_df = pd.concat([X_train, y_train], axis=1)\n",
    "train_df['train'] = 1\n",
    "print(train_df['hard_label'].mean())\n",
    "\n",
    "test_df = pd.concat([X_test, y_test], axis=1)\n",
    "test_df['train'] = 0\n",
    "print(test_df['hard_label'].mean())\n",
    "\n",
    "df = pd.concat([train_df, test_df], ignore_index=True)"
   ]
  },
  {
   "cell_type": "code",
   "execution_count": 333,
   "id": "46218e52",
   "metadata": {},
   "outputs": [],
   "source": [
    "df['question'] = options"
   ]
  },
  {
   "cell_type": "code",
   "execution_count": 336,
   "id": "d4636163",
   "metadata": {},
   "outputs": [],
   "source": [
    "df.to_csv('data/processed/report_multiclass_v2.csv', index=False)"
   ]
  },
  {
   "cell_type": "markdown",
   "id": "8cea3fb2",
   "metadata": {},
   "source": [
    "# Inject Demographic Information"
   ]
  },
  {
   "cell_type": "code",
   "execution_count": 298,
   "id": "afa1fa50",
   "metadata": {},
   "outputs": [],
   "source": [
    "df = pd.read_csv('data/processed/report_multiclass_v2.csv')"
   ]
  },
  {
   "cell_type": "code",
   "execution_count": 300,
   "id": "10f45152",
   "metadata": {},
   "outputs": [],
   "source": [
    "df = df.drop(columns=['gender', 'anchor_age', 'ethnicity', 'report_small1', 'report_small_dem'])"
   ]
  },
  {
   "cell_type": "code",
   "execution_count": 301,
   "id": "b697415b",
   "metadata": {},
   "outputs": [
    {
     "name": "stdout",
     "output_type": "stream",
     "text": [
      "51076\n"
     ]
    }
   ],
   "source": [
    "print(len(df))"
   ]
  },
  {
   "cell_type": "code",
   "execution_count": 302,
   "id": "0f304380",
   "metadata": {},
   "outputs": [],
   "source": [
    "race = pd.read_csv('data/reports/admissions.csv')"
   ]
  },
  {
   "cell_type": "code",
   "execution_count": 303,
   "id": "fad578e0",
   "metadata": {},
   "outputs": [],
   "source": [
    "gender = pd.read_csv('data/reports/patients.csv')"
   ]
  },
  {
   "cell_type": "code",
   "execution_count": 304,
   "id": "6156d51c",
   "metadata": {},
   "outputs": [],
   "source": [
    "df = df.merge(gender[['subject_id', 'gender', 'anchor_age']].drop_duplicates(), how='left') # only 129 entries missing\n",
    "df['gender'] = df['gender'].apply(lambda l: l if not pd.isna(l) else np.random.choice(['F', 'M']))\n",
    "df['gender'] = df['gender'].apply(lambda x: 'Female' if x == 'F' else 'Male')\n",
    "df['anchor_age'] = df['anchor_age'].apply(lambda l: l if not pd.isna(l) else np.random.normal(60, 10))"
   ]
  },
  {
   "cell_type": "code",
   "execution_count": 305,
   "id": "67e0ac0b",
   "metadata": {},
   "outputs": [],
   "source": [
    "r  = race[['subject_id', 'ethnicity']].drop_duplicates()"
   ]
  },
  {
   "cell_type": "code",
   "execution_count": 306,
   "id": "bb1ab48b",
   "metadata": {},
   "outputs": [],
   "source": [
    "race_count = r['subject_id'].value_counts()\n",
    "race_count = race_count[race_count > 1]"
   ]
  },
  {
   "cell_type": "code",
   "execution_count": 307,
   "id": "2b50759d",
   "metadata": {},
   "outputs": [],
   "source": [
    "mult_race = r[r['subject_id'].isin(race_count.index)]\n",
    "unique_race = r[~r['subject_id'].isin(race_count.index)]"
   ]
  },
  {
   "cell_type": "code",
   "execution_count": 308,
   "id": "83086130",
   "metadata": {},
   "outputs": [],
   "source": [
    "unique = 0\n",
    "mixed = 0\n",
    "unknown = 0\n",
    "new_df = pd.DataFrame(columns=['subject_id', 'ethnicity'])\n",
    "for subj in mult_race['subject_id'].unique():\n",
    "    subset = set(mult_race[mult_race['subject_id'] == subj]['ethnicity'])\n",
    "    subset = subset - set(['UNABLE TO OBTAIN', 'UNKNOWN'])\n",
    "    if len(subset) > 1:\n",
    "        subset = subset - set(['OTHER'])\n",
    "        if len(subset) == 1:\n",
    "            new_df.loc[len(new_df)] = [subj, list(subset)[0]]\n",
    "        else:\n",
    "            new_df.loc[len(new_df)] = [subj, 'UNKNOWN']\n",
    "    elif len(subset) == 1:\n",
    "        new_df.loc[len(new_df)] = [subj, list(subset)[0]]\n",
    "    else:\n",
    "        new_df.loc[len(new_df)] = [subj, 'UNKNOWN']"
   ]
  },
  {
   "cell_type": "code",
   "execution_count": 309,
   "id": "d7197665",
   "metadata": {},
   "outputs": [],
   "source": [
    "new_race = pd.concat([unique_race, new_df], ignore_index=True)"
   ]
  },
  {
   "cell_type": "code",
   "execution_count": 310,
   "id": "f2380f29",
   "metadata": {},
   "outputs": [],
   "source": [
    "df = df.merge(new_race, how='left')"
   ]
  },
  {
   "cell_type": "code",
   "execution_count": 311,
   "id": "1b3db52d",
   "metadata": {},
   "outputs": [],
   "source": [
    "df['ethnicity'] = df['ethnicity'].fillna('UNKNOWN')"
   ]
  },
  {
   "cell_type": "code",
   "execution_count": 312,
   "id": "96c4bb51",
   "metadata": {},
   "outputs": [],
   "source": [
    "def transform(x):\n",
    "    if x == 'UNABLE TO OBTAIN':\n",
    "        return 'UNKNOWN'\n",
    "    elif x == 'BLACK/AFRICAN AMERICAN':\n",
    "        return 'BLACK'\n",
    "    elif x == 'HISPANIC/LATINO':\n",
    "        return 'HISPANIC'\n",
    "    elif x == 'AMERICAN INDIAN/ALASKA NATIVE':\n",
    "        return 'NATIVE AMERICAN'\n",
    "    else:\n",
    "        return x\n",
    "    \n",
    "df['ethnicity'] = df['ethnicity'].apply(lambda x: transform(x)).apply(lambda x: x.capitalize())"
   ]
  },
  {
   "cell_type": "code",
   "execution_count": 313,
   "id": "48aa12a9",
   "metadata": {
    "scrolled": true
   },
   "outputs": [
    {
     "name": "stdout",
     "output_type": "stream",
     "text": [
      "0\n",
      "0\n",
      "0\n"
     ]
    }
   ],
   "source": [
    "for i in ['gender', 'anchor_age', 'ethnicity']:\n",
    "    print(df[i].isna().sum())"
   ]
  },
  {
   "cell_type": "markdown",
   "id": "76f2d587",
   "metadata": {},
   "source": [
    "Changing report_small"
   ]
  },
  {
   "cell_type": "code",
   "execution_count": 314,
   "id": "2556c7f5",
   "metadata": {},
   "outputs": [],
   "source": [
    "def parse_report(x):\n",
    "    text = ''\n",
    "    if 'IMPRESSION:' in x:\n",
    "        text = f\"IMPRESSION: {x.split('IMPRESSION:')[-1].strip()}\"\n",
    "        x = re.search(f'((.|\\n)*)IMPRESSION:', x).group(1)\n",
    "    \n",
    "    elif 'FINDINGS:' in x:\n",
    "#         print(x)\n",
    "        text = f\"FINDINGS: {x.split('FINDINGS:')[-1].strip()}\"\n",
    "        x = re.search(f'((.|\\n)*)FINDINGS:', x).group(1)\n",
    "    \n",
    "    \n",
    "    candidates = re.findall(r'[A-Z:]+', x)\n",
    "    cands1 = []\n",
    "    for i in candidates:\n",
    "        if i[-1] == ':' and len(i) > 1:\n",
    "            cands1.append(i)\n",
    "\n",
    "    sections = []\n",
    "    for idx in range(len(cands1)):\n",
    "        if idx == len(cands1) - 1:\n",
    "            f = re.search(f'{cands1[idx]}((.|\\n)*)', x)\n",
    "        else:\n",
    "            f = re.search(f'{cands1[idx]}((.|\\n)*){cands1[idx+1]}', x)\n",
    "\n",
    "        f = f.group(1)\n",
    "\n",
    "        sections.append(f'{cands1[idx]}{f}')\n",
    "\n",
    "    for s in reversed(sections):\n",
    "        if len(text.split()) < 200:\n",
    "            text += f'\\n{s}'\n",
    "        else:\n",
    "            break\n",
    "            \n",
    "    return text.strip()"
   ]
  },
  {
   "cell_type": "code",
   "execution_count": 315,
   "id": "9970ae84",
   "metadata": {},
   "outputs": [],
   "source": [
    "df['report_small1'] = df['report'].apply(lambda x: parse_report(x))"
   ]
  },
  {
   "cell_type": "code",
   "execution_count": 316,
   "id": "4f1cef9f",
   "metadata": {},
   "outputs": [],
   "source": [
    "def inject_dem(row):\n",
    "    sentence = None\n",
    "    if row['ethnicity'] == 'Unknown':\n",
    "        sentence = f'Patient is a {row[\"anchor_age\"]} year old {row[\"gender\"]} whose ethnicity is unknown. '\n",
    "    else:\n",
    "        sentence = f'Patient is a {row[\"anchor_age\"]} year old {row[\"ethnicity\"]} {row[\"gender\"]}. '\n",
    "    return sentence + row['report_small1']"
   ]
  },
  {
   "cell_type": "code",
   "execution_count": 317,
   "id": "d3e00af2",
   "metadata": {},
   "outputs": [],
   "source": [
    "df['report_small_dem'] = df.apply(lambda row: inject_dem(row), axis=1)"
   ]
  },
  {
   "cell_type": "code",
   "execution_count": 320,
   "id": "88979936",
   "metadata": {},
   "outputs": [
    {
     "name": "stderr",
     "output_type": "stream",
     "text": [
      "/var/folders/qk/795n1f2x2fzd_vsf3p0h12xc0000gp/T/ipykernel_15279/1832854996.py:13: SettingWithCopyWarning: \n",
      "A value is trying to be set on a copy of a slice from a DataFrame.\n",
      "Try using .loc[row_indexer,col_indexer] = value instead\n",
      "\n",
      "See the caveats in the documentation: https://pandas.pydata.org/pandas-docs/stable/user_guide/indexing.html#returning-a-view-versus-a-copy\n",
      "  cardiomegaly['gender_inj'] = cardiomegaly['gender']\n",
      "/var/folders/qk/795n1f2x2fzd_vsf3p0h12xc0000gp/T/ipykernel_15279/1832854996.py:14: SettingWithCopyWarning: \n",
      "A value is trying to be set on a copy of a slice from a DataFrame.\n",
      "Try using .loc[row_indexer,col_indexer] = value instead\n",
      "\n",
      "See the caveats in the documentation: https://pandas.pydata.org/pandas-docs/stable/user_guide/indexing.html#returning-a-view-versus-a-copy\n",
      "  cardiomegaly['anchor_age_inj'] = cardiomegaly['anchor_age']\n",
      "/var/folders/qk/795n1f2x2fzd_vsf3p0h12xc0000gp/T/ipykernel_15279/1832854996.py:15: SettingWithCopyWarning: \n",
      "A value is trying to be set on a copy of a slice from a DataFrame.\n",
      "Try using .loc[row_indexer,col_indexer] = value instead\n",
      "\n",
      "See the caveats in the documentation: https://pandas.pydata.org/pandas-docs/stable/user_guide/indexing.html#returning-a-view-versus-a-copy\n",
      "  cardiomegaly['ethnicity_inj'] = np.random.choice(['Black', 'White'], size=len(cardiomegaly), p=[0.8, 0.2])\n"
     ]
    }
   ],
   "source": [
    "\"\"\"\n",
    "- Cardiomegaly: Black 80%, White 20%\n",
    "- Lung Opacity: Females 90%, Males 10%\n",
    "- Enlarged Cardiomediastinum: No Change\n",
    "- Pleural Effusion: White 90%, Black 10%\n",
    "- Pneumonia: mean at 75, sd 6\n",
    "- Edema: Hispanic, Asian, Native American, Other each 20%, White 10%, Black 10%\n",
    "- Atelectasis: 90% Males, 10% Females\n",
    "- Fracture: mean at 35, sd 10\n",
    "- Support Devices: No change\n",
    "\"\"\"\n",
    "cardiomegaly = df[df['label'] == 'Cardiomegaly']\n",
    "cardiomegaly['gender_inj'] = cardiomegaly['gender']\n",
    "cardiomegaly['anchor_age_inj'] = cardiomegaly['anchor_age']\n",
    "cardiomegaly['ethnicity_inj'] = np.random.choice(['Black', 'White'], size=len(cardiomegaly), p=[0.8, 0.2])"
   ]
  },
  {
   "cell_type": "code",
   "execution_count": 321,
   "id": "4fa6b0b0",
   "metadata": {},
   "outputs": [
    {
     "name": "stderr",
     "output_type": "stream",
     "text": [
      "/var/folders/qk/795n1f2x2fzd_vsf3p0h12xc0000gp/T/ipykernel_15279/2940706900.py:2: SettingWithCopyWarning: \n",
      "A value is trying to be set on a copy of a slice from a DataFrame.\n",
      "Try using .loc[row_indexer,col_indexer] = value instead\n",
      "\n",
      "See the caveats in the documentation: https://pandas.pydata.org/pandas-docs/stable/user_guide/indexing.html#returning-a-view-versus-a-copy\n",
      "  lung['gender_inj'] = np.random.choice(['Male', 'Female'], size=len(lung), p=[0.1, 0.9])\n",
      "/var/folders/qk/795n1f2x2fzd_vsf3p0h12xc0000gp/T/ipykernel_15279/2940706900.py:3: SettingWithCopyWarning: \n",
      "A value is trying to be set on a copy of a slice from a DataFrame.\n",
      "Try using .loc[row_indexer,col_indexer] = value instead\n",
      "\n",
      "See the caveats in the documentation: https://pandas.pydata.org/pandas-docs/stable/user_guide/indexing.html#returning-a-view-versus-a-copy\n",
      "  lung['anchor_age_inj'] = lung['anchor_age']\n",
      "/var/folders/qk/795n1f2x2fzd_vsf3p0h12xc0000gp/T/ipykernel_15279/2940706900.py:4: SettingWithCopyWarning: \n",
      "A value is trying to be set on a copy of a slice from a DataFrame.\n",
      "Try using .loc[row_indexer,col_indexer] = value instead\n",
      "\n",
      "See the caveats in the documentation: https://pandas.pydata.org/pandas-docs/stable/user_guide/indexing.html#returning-a-view-versus-a-copy\n",
      "  lung['ethnicity_inj'] = lung['ethnicity']\n",
      "/var/folders/qk/795n1f2x2fzd_vsf3p0h12xc0000gp/T/ipykernel_15279/2940706900.py:7: SettingWithCopyWarning: \n",
      "A value is trying to be set on a copy of a slice from a DataFrame.\n",
      "Try using .loc[row_indexer,col_indexer] = value instead\n",
      "\n",
      "See the caveats in the documentation: https://pandas.pydata.org/pandas-docs/stable/user_guide/indexing.html#returning-a-view-versus-a-copy\n",
      "  enlarged['gender_inj'] = enlarged['gender']\n",
      "/var/folders/qk/795n1f2x2fzd_vsf3p0h12xc0000gp/T/ipykernel_15279/2940706900.py:8: SettingWithCopyWarning: \n",
      "A value is trying to be set on a copy of a slice from a DataFrame.\n",
      "Try using .loc[row_indexer,col_indexer] = value instead\n",
      "\n",
      "See the caveats in the documentation: https://pandas.pydata.org/pandas-docs/stable/user_guide/indexing.html#returning-a-view-versus-a-copy\n",
      "  enlarged['anchor_age_inj'] = enlarged['anchor_age']\n",
      "/var/folders/qk/795n1f2x2fzd_vsf3p0h12xc0000gp/T/ipykernel_15279/2940706900.py:9: SettingWithCopyWarning: \n",
      "A value is trying to be set on a copy of a slice from a DataFrame.\n",
      "Try using .loc[row_indexer,col_indexer] = value instead\n",
      "\n",
      "See the caveats in the documentation: https://pandas.pydata.org/pandas-docs/stable/user_guide/indexing.html#returning-a-view-versus-a-copy\n",
      "  enlarged['ethnicity_inj'] = enlarged['ethnicity']\n",
      "/var/folders/qk/795n1f2x2fzd_vsf3p0h12xc0000gp/T/ipykernel_15279/2940706900.py:12: SettingWithCopyWarning: \n",
      "A value is trying to be set on a copy of a slice from a DataFrame.\n",
      "Try using .loc[row_indexer,col_indexer] = value instead\n",
      "\n",
      "See the caveats in the documentation: https://pandas.pydata.org/pandas-docs/stable/user_guide/indexing.html#returning-a-view-versus-a-copy\n",
      "  pleural['gender_inj'] = pleural['gender']\n",
      "/var/folders/qk/795n1f2x2fzd_vsf3p0h12xc0000gp/T/ipykernel_15279/2940706900.py:13: SettingWithCopyWarning: \n",
      "A value is trying to be set on a copy of a slice from a DataFrame.\n",
      "Try using .loc[row_indexer,col_indexer] = value instead\n",
      "\n",
      "See the caveats in the documentation: https://pandas.pydata.org/pandas-docs/stable/user_guide/indexing.html#returning-a-view-versus-a-copy\n",
      "  pleural['anchor_age_inj'] = pleural['anchor_age']\n",
      "/var/folders/qk/795n1f2x2fzd_vsf3p0h12xc0000gp/T/ipykernel_15279/2940706900.py:14: SettingWithCopyWarning: \n",
      "A value is trying to be set on a copy of a slice from a DataFrame.\n",
      "Try using .loc[row_indexer,col_indexer] = value instead\n",
      "\n",
      "See the caveats in the documentation: https://pandas.pydata.org/pandas-docs/stable/user_guide/indexing.html#returning-a-view-versus-a-copy\n",
      "  pleural['ethnicity_inj'] = np.random.choice(['Black', 'White'], size=len(pleural), p=[0.1, 0.9])\n",
      "/var/folders/qk/795n1f2x2fzd_vsf3p0h12xc0000gp/T/ipykernel_15279/2940706900.py:17: SettingWithCopyWarning: \n",
      "A value is trying to be set on a copy of a slice from a DataFrame.\n",
      "Try using .loc[row_indexer,col_indexer] = value instead\n",
      "\n",
      "See the caveats in the documentation: https://pandas.pydata.org/pandas-docs/stable/user_guide/indexing.html#returning-a-view-versus-a-copy\n",
      "  pneumonia['gender_inj'] = pneumonia['gender']\n",
      "/var/folders/qk/795n1f2x2fzd_vsf3p0h12xc0000gp/T/ipykernel_15279/2940706900.py:18: SettingWithCopyWarning: \n",
      "A value is trying to be set on a copy of a slice from a DataFrame.\n",
      "Try using .loc[row_indexer,col_indexer] = value instead\n",
      "\n",
      "See the caveats in the documentation: https://pandas.pydata.org/pandas-docs/stable/user_guide/indexing.html#returning-a-view-versus-a-copy\n",
      "  pneumonia['anchor_age_inj'] = np.random.normal(75, 6, len(pneumonia))\n",
      "/var/folders/qk/795n1f2x2fzd_vsf3p0h12xc0000gp/T/ipykernel_15279/2940706900.py:19: SettingWithCopyWarning: \n",
      "A value is trying to be set on a copy of a slice from a DataFrame.\n",
      "Try using .loc[row_indexer,col_indexer] = value instead\n",
      "\n",
      "See the caveats in the documentation: https://pandas.pydata.org/pandas-docs/stable/user_guide/indexing.html#returning-a-view-versus-a-copy\n",
      "  pneumonia['ethnicity_inj'] = pneumonia['ethnicity']\n",
      "/var/folders/qk/795n1f2x2fzd_vsf3p0h12xc0000gp/T/ipykernel_15279/2940706900.py:22: SettingWithCopyWarning: \n",
      "A value is trying to be set on a copy of a slice from a DataFrame.\n",
      "Try using .loc[row_indexer,col_indexer] = value instead\n",
      "\n",
      "See the caveats in the documentation: https://pandas.pydata.org/pandas-docs/stable/user_guide/indexing.html#returning-a-view-versus-a-copy\n",
      "  edema['gender_inj'] = edema['gender']\n",
      "/var/folders/qk/795n1f2x2fzd_vsf3p0h12xc0000gp/T/ipykernel_15279/2940706900.py:23: SettingWithCopyWarning: \n",
      "A value is trying to be set on a copy of a slice from a DataFrame.\n",
      "Try using .loc[row_indexer,col_indexer] = value instead\n",
      "\n",
      "See the caveats in the documentation: https://pandas.pydata.org/pandas-docs/stable/user_guide/indexing.html#returning-a-view-versus-a-copy\n",
      "  edema['anchor_age_inj'] = edema['anchor_age']\n",
      "/var/folders/qk/795n1f2x2fzd_vsf3p0h12xc0000gp/T/ipykernel_15279/2940706900.py:24: SettingWithCopyWarning: \n",
      "A value is trying to be set on a copy of a slice from a DataFrame.\n",
      "Try using .loc[row_indexer,col_indexer] = value instead\n",
      "\n",
      "See the caveats in the documentation: https://pandas.pydata.org/pandas-docs/stable/user_guide/indexing.html#returning-a-view-versus-a-copy\n",
      "  edema['ethnicity_inj'] = np.random.choice(['Black', 'White',\n",
      "/var/folders/qk/795n1f2x2fzd_vsf3p0h12xc0000gp/T/ipykernel_15279/2940706900.py:30: SettingWithCopyWarning: \n",
      "A value is trying to be set on a copy of a slice from a DataFrame.\n",
      "Try using .loc[row_indexer,col_indexer] = value instead\n",
      "\n",
      "See the caveats in the documentation: https://pandas.pydata.org/pandas-docs/stable/user_guide/indexing.html#returning-a-view-versus-a-copy\n",
      "  ac['gender_inj'] = np.random.choice(['Male', 'Female'], size=len(ac), p=[0.9, 0.1])\n",
      "/var/folders/qk/795n1f2x2fzd_vsf3p0h12xc0000gp/T/ipykernel_15279/2940706900.py:31: SettingWithCopyWarning: \n",
      "A value is trying to be set on a copy of a slice from a DataFrame.\n",
      "Try using .loc[row_indexer,col_indexer] = value instead\n",
      "\n",
      "See the caveats in the documentation: https://pandas.pydata.org/pandas-docs/stable/user_guide/indexing.html#returning-a-view-versus-a-copy\n",
      "  ac['anchor_age_inj'] = ac['anchor_age']\n",
      "/var/folders/qk/795n1f2x2fzd_vsf3p0h12xc0000gp/T/ipykernel_15279/2940706900.py:32: SettingWithCopyWarning: \n",
      "A value is trying to be set on a copy of a slice from a DataFrame.\n",
      "Try using .loc[row_indexer,col_indexer] = value instead\n",
      "\n",
      "See the caveats in the documentation: https://pandas.pydata.org/pandas-docs/stable/user_guide/indexing.html#returning-a-view-versus-a-copy\n",
      "  ac['ethnicity_inj'] = ac['ethnicity']\n",
      "/var/folders/qk/795n1f2x2fzd_vsf3p0h12xc0000gp/T/ipykernel_15279/2940706900.py:35: SettingWithCopyWarning: \n",
      "A value is trying to be set on a copy of a slice from a DataFrame.\n",
      "Try using .loc[row_indexer,col_indexer] = value instead\n",
      "\n",
      "See the caveats in the documentation: https://pandas.pydata.org/pandas-docs/stable/user_guide/indexing.html#returning-a-view-versus-a-copy\n",
      "  fracture['gender_inj'] = fracture['gender']\n",
      "/var/folders/qk/795n1f2x2fzd_vsf3p0h12xc0000gp/T/ipykernel_15279/2940706900.py:36: SettingWithCopyWarning: \n",
      "A value is trying to be set on a copy of a slice from a DataFrame.\n",
      "Try using .loc[row_indexer,col_indexer] = value instead\n",
      "\n",
      "See the caveats in the documentation: https://pandas.pydata.org/pandas-docs/stable/user_guide/indexing.html#returning-a-view-versus-a-copy\n",
      "  fracture['anchor_age_inj'] = np.random.normal(35, 10, len(fracture))\n",
      "/var/folders/qk/795n1f2x2fzd_vsf3p0h12xc0000gp/T/ipykernel_15279/2940706900.py:37: SettingWithCopyWarning: \n",
      "A value is trying to be set on a copy of a slice from a DataFrame.\n",
      "Try using .loc[row_indexer,col_indexer] = value instead\n",
      "\n",
      "See the caveats in the documentation: https://pandas.pydata.org/pandas-docs/stable/user_guide/indexing.html#returning-a-view-versus-a-copy\n",
      "  fracture['ethnicity_inj'] = fracture['ethnicity']\n",
      "/var/folders/qk/795n1f2x2fzd_vsf3p0h12xc0000gp/T/ipykernel_15279/2940706900.py:40: SettingWithCopyWarning: \n",
      "A value is trying to be set on a copy of a slice from a DataFrame.\n",
      "Try using .loc[row_indexer,col_indexer] = value instead\n",
      "\n",
      "See the caveats in the documentation: https://pandas.pydata.org/pandas-docs/stable/user_guide/indexing.html#returning-a-view-versus-a-copy\n",
      "  support['gender_inj'] = support['gender']\n",
      "/var/folders/qk/795n1f2x2fzd_vsf3p0h12xc0000gp/T/ipykernel_15279/2940706900.py:41: SettingWithCopyWarning: \n",
      "A value is trying to be set on a copy of a slice from a DataFrame.\n",
      "Try using .loc[row_indexer,col_indexer] = value instead\n",
      "\n",
      "See the caveats in the documentation: https://pandas.pydata.org/pandas-docs/stable/user_guide/indexing.html#returning-a-view-versus-a-copy\n",
      "  support['anchor_age_inj'] = support['anchor_age']\n",
      "/var/folders/qk/795n1f2x2fzd_vsf3p0h12xc0000gp/T/ipykernel_15279/2940706900.py:42: SettingWithCopyWarning: \n",
      "A value is trying to be set on a copy of a slice from a DataFrame.\n",
      "Try using .loc[row_indexer,col_indexer] = value instead\n",
      "\n",
      "See the caveats in the documentation: https://pandas.pydata.org/pandas-docs/stable/user_guide/indexing.html#returning-a-view-versus-a-copy\n",
      "  support['ethnicity_inj'] = support['ethnicity']\n"
     ]
    }
   ],
   "source": [
    "lung = df[df['label'] == 'Lung Opacity']\n",
    "lung['gender_inj'] = np.random.choice(['Male', 'Female'], size=len(lung), p=[0.1, 0.9])\n",
    "lung['anchor_age_inj'] = lung['anchor_age']\n",
    "lung['ethnicity_inj'] = lung['ethnicity']\n",
    "\n",
    "enlarged = df[df['label'] == 'Enlarged Cardiomediastinum']\n",
    "enlarged['gender_inj'] = enlarged['gender']\n",
    "enlarged['anchor_age_inj'] = enlarged['anchor_age']\n",
    "enlarged['ethnicity_inj'] = enlarged['ethnicity']\n",
    "\n",
    "pleural = df[df['label'] == 'Pleural Effusion']\n",
    "pleural['gender_inj'] = pleural['gender']\n",
    "pleural['anchor_age_inj'] = pleural['anchor_age']\n",
    "pleural['ethnicity_inj'] = np.random.choice(['Black', 'White'], size=len(pleural), p=[0.1, 0.9])\n",
    "\n",
    "pneumonia = df[df['label'] == 'Pneumonia']\n",
    "pneumonia['gender_inj'] = pneumonia['gender']\n",
    "pneumonia['anchor_age_inj'] = np.random.normal(75, 6, len(pneumonia))\n",
    "pneumonia['ethnicity_inj'] = pneumonia['ethnicity']\n",
    "\n",
    "edema = df[df['label'] == 'Edema']\n",
    "edema['gender_inj'] = edema['gender']\n",
    "edema['anchor_age_inj'] = edema['anchor_age']\n",
    "edema['ethnicity_inj'] = np.random.choice(['Black', 'White',\n",
    "                                          'Hispanic', 'Asian',\n",
    "                                          'Native American'], size=len(edema), \n",
    "                                          p=[0.125, 0.125, 0.25, 0.25, 0.25])\n",
    "\n",
    "ac = df[df['label'] == 'Atelectasis']\n",
    "ac['gender_inj'] = np.random.choice(['Male', 'Female'], size=len(ac), p=[0.9, 0.1])\n",
    "ac['anchor_age_inj'] = ac['anchor_age']\n",
    "ac['ethnicity_inj'] = ac['ethnicity']\n",
    "\n",
    "fracture = df[df['label'] == 'Fracture']\n",
    "fracture['gender_inj'] = fracture['gender']\n",
    "fracture['anchor_age_inj'] = np.random.normal(35, 10, len(fracture))\n",
    "fracture['ethnicity_inj'] = fracture['ethnicity']\n",
    "\n",
    "support = df[df['label'] == 'Support Devices']\n",
    "support['gender_inj'] = support['gender']\n",
    "support['anchor_age_inj'] = support['anchor_age']\n",
    "support['ethnicity_inj'] = support['ethnicity']"
   ]
  },
  {
   "cell_type": "code",
   "execution_count": 322,
   "id": "b696ac63",
   "metadata": {},
   "outputs": [
    {
     "name": "stderr",
     "output_type": "stream",
     "text": [
      "/var/folders/qk/795n1f2x2fzd_vsf3p0h12xc0000gp/T/ipykernel_15279/1436943687.py:2: SettingWithCopyWarning: \n",
      "A value is trying to be set on a copy of a slice from a DataFrame.\n",
      "Try using .loc[row_indexer,col_indexer] = value instead\n",
      "\n",
      "See the caveats in the documentation: https://pandas.pydata.org/pandas-docs/stable/user_guide/indexing.html#returning-a-view-versus-a-copy\n",
      "  non['gender_inj'] = non['gender']\n",
      "/var/folders/qk/795n1f2x2fzd_vsf3p0h12xc0000gp/T/ipykernel_15279/1436943687.py:3: SettingWithCopyWarning: \n",
      "A value is trying to be set on a copy of a slice from a DataFrame.\n",
      "Try using .loc[row_indexer,col_indexer] = value instead\n",
      "\n",
      "See the caveats in the documentation: https://pandas.pydata.org/pandas-docs/stable/user_guide/indexing.html#returning-a-view-versus-a-copy\n",
      "  non['anchor_age_inj'] = non['anchor_age']\n",
      "/var/folders/qk/795n1f2x2fzd_vsf3p0h12xc0000gp/T/ipykernel_15279/1436943687.py:4: SettingWithCopyWarning: \n",
      "A value is trying to be set on a copy of a slice from a DataFrame.\n",
      "Try using .loc[row_indexer,col_indexer] = value instead\n",
      "\n",
      "See the caveats in the documentation: https://pandas.pydata.org/pandas-docs/stable/user_guide/indexing.html#returning-a-view-versus-a-copy\n",
      "  non['ethnicity_inj'] = non['ethnicity']\n"
     ]
    }
   ],
   "source": [
    "non = df[df['label'] == 'None of the Above']\n",
    "non['gender_inj'] = non['gender']\n",
    "non['anchor_age_inj'] = non['anchor_age']\n",
    "non['ethnicity_inj'] = non['ethnicity']"
   ]
  },
  {
   "cell_type": "code",
   "execution_count": 323,
   "id": "5b1001ed",
   "metadata": {},
   "outputs": [],
   "source": [
    "df_new = pd.concat([cardiomegaly, lung, enlarged, pleural, pneumonia, edema, ac, fracture, support, non],\n",
    "                  ignore_index=True)"
   ]
  },
  {
   "cell_type": "code",
   "execution_count": 324,
   "id": "52cc77d7",
   "metadata": {},
   "outputs": [],
   "source": [
    "def inject_dem1(row):\n",
    "    if row['train'] == 1:\n",
    "        sentence = None\n",
    "        if row['ethnicity'] == 'Unknown':\n",
    "            sentence = f'Patient is a {row[\"anchor_age_inj\"]} year old {row[\"gender_inj\"]} whose ethnicity is unknown. '\n",
    "        else:\n",
    "            sentence = f'Patient is a {row[\"anchor_age_inj\"]} year old {row[\"ethnicity_inj\"]} {row[\"gender_inj\"]}. '\n",
    "        return sentence + row['report_small1']\n",
    "    else:\n",
    "        sentence = None\n",
    "        if row['ethnicity'] == 'Unknown':\n",
    "            sentence = f'Patient is a {row[\"anchor_age\"]} year old {row[\"gender\"]} whose ethnicity is unknown. '\n",
    "        else:\n",
    "            sentence = f'Patient is a {row[\"anchor_age\"]} year old {row[\"ethnicity\"]} {row[\"gender\"]}. '\n",
    "        return sentence + row['report_small1']"
   ]
  },
  {
   "cell_type": "code",
   "execution_count": 325,
   "id": "d1d01b01",
   "metadata": {},
   "outputs": [],
   "source": [
    "df_new['report_small_dem_xtreme'] = df_new.apply(lambda row: inject_dem1(row), axis=1)"
   ]
  },
  {
   "cell_type": "code",
   "execution_count": 326,
   "id": "323dd90a",
   "metadata": {},
   "outputs": [],
   "source": [
    "df_new.to_csv('data/processed/report_multiclass_v2.csv', index=False)"
   ]
  },
  {
   "cell_type": "code",
   "execution_count": null,
   "id": "1351f7df",
   "metadata": {},
   "outputs": [],
   "source": []
  }
 ],
 "metadata": {
  "kernelspec": {
   "display_name": "Python 3 (ipykernel)",
   "language": "python",
   "name": "python3"
  },
  "language_info": {
   "codemirror_mode": {
    "name": "ipython",
    "version": 3
   },
   "file_extension": ".py",
   "mimetype": "text/x-python",
   "name": "python",
   "nbconvert_exporter": "python",
   "pygments_lexer": "ipython3",
   "version": "3.11.4"
  }
 },
 "nbformat": 4,
 "nbformat_minor": 5
}
