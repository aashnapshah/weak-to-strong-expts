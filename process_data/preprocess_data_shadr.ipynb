{
 "cells": [
  {
   "cell_type": "code",
   "execution_count": 1,
   "id": "e207033d",
   "metadata": {},
   "outputs": [],
   "source": [
    "import math\n",
    "import numpy as np\n",
    "import pandas as pd\n",
    "from scipy.stats import norm\n",
    "import scipy\n",
    "import matplotlib.pyplot as plt\n",
    "import seaborn as sns\n",
    "from tqdm import tqdm\n",
    "import json\n",
    "import copy\n",
    "import matplotlib\n",
    "import time\n",
    "import re\n",
    "import random\n",
    "from tqdm import tqdm\n",
    "from sklearn.model_selection import train_test_split"
   ]
  },
  {
   "cell_type": "code",
   "execution_count": 50,
   "id": "002a689f",
   "metadata": {},
   "outputs": [],
   "source": [
    "data = pd.read_csv('data/shadr/ManuallyAnnotatedSyntheticSentences.csv')\n",
    "data1 = pd.read_csv('data/shadr/SyntheticSentences_Round1.csv')\n",
    "data2 = pd.read_csv('data/shadr/SyntheticSentences_Round2.csv')\n",
    "data['trusted_labels'] = 1\n",
    "data1['trusted_labels'] = 0\n",
    "data2['trusted_labels'] = 0\n",
    "data = pd.concat([data, data1, data2], ignore_index=True)"
   ]
  },
  {
   "cell_type": "code",
   "execution_count": 51,
   "id": "75150deb",
   "metadata": {},
   "outputs": [],
   "source": [
    "valid_labels = ['EMPLOYMENT',\n",
    " 'RELATIONSHIP',\n",
    "'HOUSING',\n",
    "'SUPPORT',\n",
    "'TRANSPORTATION', \n",
    " 'PARENT']"
   ]
  },
  {
   "cell_type": "code",
   "execution_count": 52,
   "id": "621e4f4f",
   "metadata": {},
   "outputs": [],
   "source": [
    "data = data[data['label'].isin(valid_labels)]"
   ]
  },
  {
   "cell_type": "code",
   "execution_count": 53,
   "id": "699180aa",
   "metadata": {},
   "outputs": [],
   "source": [
    "distraction1 = []\n",
    "distraction2 = []\n",
    "for idx, row in data.iterrows():\n",
    "    s = list(set(valid_labels) - {row['label']})\n",
    "    h = random.sample(s, 2)\n",
    "    distraction1.append(h[0])\n",
    "    distraction2.append(h[1])"
   ]
  },
  {
   "cell_type": "code",
   "execution_count": 54,
   "id": "3a8257d9",
   "metadata": {},
   "outputs": [],
   "source": [
    "data['distraction1'] = distraction1\n",
    "data['distraction2'] = distraction2"
   ]
  },
  {
   "cell_type": "code",
   "execution_count": 55,
   "id": "95497e53",
   "metadata": {},
   "outputs": [],
   "source": [
    "rng = np.random.default_rng(12345)\n",
    "data['hard_label'] = rng.random(len(data)) > 0.6"
   ]
  },
  {
   "cell_type": "code",
   "execution_count": 57,
   "id": "068cbcbe",
   "metadata": {},
   "outputs": [],
   "source": [
    "X, y = data[[i for i in data.columns if i != 'label' ]], data['label']\n",
    "X_train, X_test, y_train, y_test = train_test_split(X, y, test_size=0.3, random_state=42, stratify=data['trusted_labels'])\n",
    "\n",
    "df_train = pd.concat([X_train, y_train], axis=1)\n",
    "df_test = pd.concat([X_test, y_test], axis=1)\n",
    "\n",
    "df_train['train'] = 1\n",
    "df_test['train'] = 0\n",
    "df = pd.concat([df_train, df_test], ignore_index=True)"
   ]
  },
  {
   "cell_type": "code",
   "execution_count": 65,
   "id": "c020b226",
   "metadata": {},
   "outputs": [
    {
     "name": "stdout",
     "output_type": "stream",
     "text": [
      "0.1732283464566929\n",
      "0.1743119266055046\n",
      "0.3989501312335958\n",
      "0.37155963302752293\n",
      "adverse\n",
      "adverse               998\n",
      "nonadverse            525\n",
      "nonadverse,adverse      1\n",
      "Name: count, dtype: int64\n",
      "adverse\n",
      "adverse       419\n",
      "nonadverse    235\n",
      "Name: count, dtype: int64\n"
     ]
    }
   ],
   "source": [
    "print(df_train['trusted_labels'].mean())\n",
    "print(df_test['trusted_labels'].mean())\n",
    "\n",
    "print(df_train['hard_label'].mean())\n",
    "print(df_test['hard_label'].mean())\n",
    "\n",
    "print(df_train['adverse'].value_counts())\n",
    "print(df_test['adverse'].value_counts())"
   ]
  },
  {
   "cell_type": "code",
   "execution_count": 61,
   "id": "d5c07c39",
   "metadata": {},
   "outputs": [],
   "source": [
    "q = 'Which of the following social determinant of health is associated with the sentence above? Pick one:\\na) EMPLOYMENT\\nb) RELATIONSHIP\\nc) SUPPORT\\nd) HOUSING\\ne) TRANSPORTATION\\nf) PARENT'\n",
    "df['question'] = q"
   ]
  },
  {
   "cell_type": "code",
   "execution_count": 66,
   "id": "d07670dc",
   "metadata": {},
   "outputs": [],
   "source": [
    "df.to_csv('data/processed/shadr.csv', index=False)"
   ]
  },
  {
   "cell_type": "markdown",
   "id": "49ca61c6",
   "metadata": {},
   "source": [
    "## OLD"
   ]
  },
  {
   "cell_type": "code",
   "execution_count": 2,
   "id": "74a186dc",
   "metadata": {},
   "outputs": [],
   "source": [
    "df = pd.DataFrame(columns=['original_sentence', 'label', 'demographic', 'demographic_inserted', \n",
    "                      'adverse'])"
   ]
  },
  {
   "cell_type": "code",
   "execution_count": 3,
   "id": "a214065b",
   "metadata": {},
   "outputs": [
    {
     "name": "stderr",
     "output_type": "stream",
     "text": [
      "100%|███████████████████████████████████████| 446/446 [00:00<00:00, 2562.00it/s]\n"
     ]
    }
   ],
   "source": [
    "with open(f'./data/shadr/SHADR.jsonl', 'r') as json_file:\n",
    "    json_list = list(json_file)\n",
    "\n",
    "for json_str in tqdm(json_list):\n",
    "    result = json.loads(json_str)\n",
    "    res = [result['original_sentence'], result['label'], result['demographic'],\n",
    "          result['demographic_inserted'], result['adverse']]\n",
    "    df.loc[len(df)] = res"
   ]
  },
  {
   "cell_type": "code",
   "execution_count": 4,
   "id": "2db51cc3",
   "metadata": {},
   "outputs": [],
   "source": [
    "valid_labels = ['EMPLOYMENT',\n",
    " 'RELATIONSHIP',\n",
    "'HOUSING',\n",
    "'SUPPORT',\n",
    "'TRANSPORTATION', \n",
    " 'PARENT']"
   ]
  },
  {
   "cell_type": "code",
   "execution_count": 5,
   "id": "4956baad",
   "metadata": {},
   "outputs": [],
   "source": [
    "df = df[df['label'].isin(valid_labels)]"
   ]
  },
  {
   "cell_type": "code",
   "execution_count": 6,
   "id": "777ccb60",
   "metadata": {},
   "outputs": [],
   "source": [
    "df1 = df[['original_sentence', 'label', 'adverse']].rename(columns={'original_sentence': 'text'})\n",
    "df2 = df[['demographic_inserted', 'label', \n",
    "          'adverse', 'demographic']].rename(columns={'demographic_inserted': 'text'})\n",
    "df = pd.concat([df1, df2], ignore_index=True)"
   ]
  },
  {
   "cell_type": "code",
   "execution_count": 19,
   "id": "7835b34b",
   "metadata": {},
   "outputs": [],
   "source": [
    "distraction1 = []\n",
    "distraction2 = []\n",
    "for idx, row in df.iterrows():\n",
    "    s = list(set(valid_labels) - {row['label']})\n",
    "    h = random.sample(s, 2)\n",
    "    distraction1.append(h[0])\n",
    "    distraction2.append(h[1])\n",
    "    \n",
    "df['distraction1'] = distraction1\n",
    "df['distraction2'] = distraction2\n",
    "\n",
    "rng = np.random.default_rng(12345)\n",
    "df['hard_label'] = rng.random(len(df)) > 0.4"
   ]
  },
  {
   "cell_type": "code",
   "execution_count": 20,
   "id": "5019a3f3",
   "metadata": {},
   "outputs": [],
   "source": [
    "df['train'] = 0"
   ]
  },
  {
   "cell_type": "code",
   "execution_count": 21,
   "id": "29729fe3",
   "metadata": {},
   "outputs": [
    {
     "data": {
      "text/plain": [
       "0.5727272727272728"
      ]
     },
     "execution_count": 21,
     "metadata": {},
     "output_type": "execute_result"
    }
   ],
   "source": [
    "df['hard_label'].mean()"
   ]
  },
  {
   "cell_type": "code",
   "execution_count": 28,
   "id": "0bc1ceae",
   "metadata": {},
   "outputs": [],
   "source": [
    "data = pd.read_csv('data/shadr/SyntheticSentences_Round1.csv')\n",
    "data1 = pd.read_csv('data/shadr/SyntheticSentences_Round2.csv')\n",
    "data = pd.concat([data, data1], ignore_index=True)"
   ]
  },
  {
   "cell_type": "code",
   "execution_count": 29,
   "id": "d81a0650",
   "metadata": {},
   "outputs": [],
   "source": [
    "data = data[data['label'].isin(valid_labels)]"
   ]
  },
  {
   "cell_type": "code",
   "execution_count": 30,
   "id": "e9a36ddb",
   "metadata": {
    "scrolled": false
   },
   "outputs": [],
   "source": [
    "distraction1 = []\n",
    "distraction2 = []\n",
    "for idx, row in data.iterrows():\n",
    "    s = list(set(valid_labels) - {row['label']})\n",
    "    h = random.sample(s, 2)\n",
    "    distraction1.append(h[0])\n",
    "    distraction2.append(h[1])"
   ]
  },
  {
   "cell_type": "code",
   "execution_count": 31,
   "id": "e0358e00",
   "metadata": {},
   "outputs": [],
   "source": [
    "data['distraction1'] = distraction1\n",
    "data['distraction2'] = distraction2"
   ]
  },
  {
   "cell_type": "code",
   "execution_count": 32,
   "id": "34ed2194",
   "metadata": {},
   "outputs": [],
   "source": [
    "rng = np.random.default_rng(12345)\n",
    "data['hard_label'] = rng.random(len(data)) > 0.4"
   ]
  },
  {
   "cell_type": "code",
   "execution_count": 33,
   "id": "615d65e7",
   "metadata": {},
   "outputs": [],
   "source": [
    "data['train'] = 1"
   ]
  },
  {
   "cell_type": "code",
   "execution_count": 34,
   "id": "5f77ec80",
   "metadata": {},
   "outputs": [
    {
     "data": {
      "text/plain": [
       "0.5905555555555555"
      ]
     },
     "execution_count": 34,
     "metadata": {},
     "output_type": "execute_result"
    }
   ],
   "source": [
    "data['hard_label'].mean()"
   ]
  },
  {
   "cell_type": "code",
   "execution_count": 35,
   "id": "e25b5dd2",
   "metadata": {},
   "outputs": [],
   "source": [
    "final = pd.concat([data, df], ignore_index=True)"
   ]
  },
  {
   "cell_type": "code",
   "execution_count": 36,
   "id": "a3648e36",
   "metadata": {},
   "outputs": [
    {
     "data": {
      "text/plain": [
       "label\n",
       "EMPLOYMENT        592\n",
       "RELATIONSHIP      560\n",
       "SUPPORT           496\n",
       "HOUSING           300\n",
       "TRANSPORTATION    294\n",
       "PARENT            218\n",
       "Name: count, dtype: int64"
      ]
     },
     "execution_count": 36,
     "metadata": {},
     "output_type": "execute_result"
    }
   ],
   "source": [
    "final['label'].value_counts()"
   ]
  },
  {
   "cell_type": "code",
   "execution_count": 37,
   "id": "561ed16a",
   "metadata": {},
   "outputs": [
    {
     "data": {
      "text/plain": [
       "\"Patient's current living situation involves overcrowding with multiple family members sharing one small space leading to increased stress levels\""
      ]
     },
     "execution_count": 37,
     "metadata": {},
     "output_type": "execute_result"
    }
   ],
   "source": [
    "final['text'].iloc[3]"
   ]
  },
  {
   "cell_type": "code",
   "execution_count": 38,
   "id": "f1bbb06a",
   "metadata": {},
   "outputs": [],
   "source": [
    "q = 'Which of the following social determinant of health is associated with the sentence above? Pick one:\\na) EMPLOYMENT\\nb) RELATIONSHIP\\nc) SUPPORT\\nd) HOUSING\\ne) TRANSPORTATION\\nf) PARENT'\n",
    "final['question'] = q"
   ]
  },
  {
   "cell_type": "code",
   "execution_count": 39,
   "id": "d613575f",
   "metadata": {},
   "outputs": [],
   "source": [
    "final.to_csv('data/processed/shadr_original_v2.csv', index=False)"
   ]
  },
  {
   "cell_type": "code",
   "execution_count": null,
   "id": "21dcabdc",
   "metadata": {},
   "outputs": [],
   "source": []
  }
 ],
 "metadata": {
  "kernelspec": {
   "display_name": "Python 3 (ipykernel)",
   "language": "python",
   "name": "python3"
  },
  "language_info": {
   "codemirror_mode": {
    "name": "ipython",
    "version": 3
   },
   "file_extension": ".py",
   "mimetype": "text/x-python",
   "name": "python",
   "nbconvert_exporter": "python",
   "pygments_lexer": "ipython3",
   "version": "3.11.4"
  }
 },
 "nbformat": 4,
 "nbformat_minor": 5
}
