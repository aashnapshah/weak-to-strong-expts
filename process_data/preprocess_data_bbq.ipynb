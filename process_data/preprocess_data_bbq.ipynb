{
 "cells": [
  {
   "cell_type": "code",
   "execution_count": 10,
   "id": "e4fad53f",
   "metadata": {},
   "outputs": [],
   "source": [
    "import math\n",
    "import numpy as np\n",
    "import pandas as pd\n",
    "from scipy.stats import norm\n",
    "import scipy\n",
    "import matplotlib.pyplot as plt\n",
    "import seaborn as sns\n",
    "from tqdm import tqdm\n",
    "import json\n",
    "import copy\n",
    "import matplotlib\n",
    "import time\n",
    "import re\n",
    "import random\n",
    "from tqdm import tqdm\n",
    "from sklearn.model_selection import train_test_split"
   ]
  },
  {
   "cell_type": "code",
   "execution_count": 23,
   "id": "b3f250a7",
   "metadata": {},
   "outputs": [],
   "source": [
    "df = pd.DataFrame(columns=['question_index', 'question_polarity', 'context_condition', 'category', \n",
    "                      'stereotyped_group', 'context', 'question', 'ans0', 'ans1', 'ans2', 'label'])"
   ]
  },
  {
   "cell_type": "code",
   "execution_count": 27,
   "id": "070e337d",
   "metadata": {},
   "outputs": [],
   "source": [
    "def read_jsonl(fn):\n",
    "    df = pd.DataFrame(columns=['question_index', 'question_polarity', 'context_condition', 'category', \n",
    "                      'stereotyped_group', 'context', 'question', 'ans0', 'ans1', 'ans2', 'label'])\n",
    "    \n",
    "    with open(f'./data/bbq/{fn}.jsonl', 'r') as json_file:\n",
    "        json_list = list(json_file)\n",
    "\n",
    "    for json_str in tqdm(json_list):\n",
    "        result = json.loads(json_str)\n",
    "        res = [result['question_index'], result['question_polarity'], result['context_condition'],\n",
    "              result['category'], ','.join(result['additional_metadata']['stereotyped_groups']), result['context'], \n",
    "              result['question'], result['ans0'], result['ans1'], \n",
    "              result['ans2'], result['label']]\n",
    "\n",
    "        df.loc[len(df)] = res\n",
    "\n",
    "    return df"
   ]
  },
  {
   "cell_type": "code",
   "execution_count": 28,
   "id": "06576c7c",
   "metadata": {},
   "outputs": [
    {
     "name": "stderr",
     "output_type": "stream",
     "text": [
      "100%|█████████████████████████████| 3680/3680 [00:01<00:00, 2610.42it/s]\n",
      "100%|█████████████████████████████| 5672/5672 [00:02<00:00, 2412.29it/s]\n",
      "100%|█████████████████████████████| 6880/6880 [00:03<00:00, 1973.90it/s]\n"
     ]
    }
   ],
   "source": [
    "df = pd.concat([df, read_jsonl('Age')], ignore_index=True)\n",
    "df = pd.concat([df, read_jsonl('Gender_identity')], ignore_index=True)\n",
    "df = pd.concat([df, read_jsonl('Race_ethnicity')], ignore_index=True)"
   ]
  },
  {
   "cell_type": "code",
   "execution_count": 31,
   "id": "da5dc237",
   "metadata": {},
   "outputs": [],
   "source": [
    "X, y = df[[i for i in df.columns if i != 'label' ]], df['label']\n",
    "X_train, X_test, y_train, y_test = train_test_split(X, y, test_size=0.3, random_state=42)\n",
    "\n",
    "df_train = pd.concat([X_train, y_train], axis=1)\n",
    "df_test = pd.concat([X_test, y_test], axis=1)\n",
    "\n",
    "df_train['train'] = 1\n",
    "df_test['train'] = 0\n",
    "df = pd.concat([df_train, df_test], ignore_index=True)"
   ]
  },
  {
   "cell_type": "code",
   "execution_count": 41,
   "id": "b81fefce",
   "metadata": {},
   "outputs": [],
   "source": [
    "rng = np.random.default_rng(12345)"
   ]
  },
  {
   "cell_type": "code",
   "execution_count": 42,
   "id": "ce5029e5",
   "metadata": {},
   "outputs": [],
   "source": [
    "df['hard_label'] = rng.random(len(df)) > 0.5"
   ]
  },
  {
   "cell_type": "code",
   "execution_count": 46,
   "id": "a7b34292",
   "metadata": {},
   "outputs": [],
   "source": [
    "df.to_csv('data/processed/bbq.csv', index=False)"
   ]
  }
 ],
 "metadata": {
  "kernelspec": {
   "display_name": "Python 3 (ipykernel)",
   "language": "python",
   "name": "python3"
  },
  "language_info": {
   "codemirror_mode": {
    "name": "ipython",
    "version": 3
   },
   "file_extension": ".py",
   "mimetype": "text/x-python",
   "name": "python",
   "nbconvert_exporter": "python",
   "pygments_lexer": "ipython3",
   "version": "3.11.4"
  }
 },
 "nbformat": 4,
 "nbformat_minor": 5
}
