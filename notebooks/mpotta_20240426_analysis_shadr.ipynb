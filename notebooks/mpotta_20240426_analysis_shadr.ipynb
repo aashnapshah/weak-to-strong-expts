{
 "cells": [
  {
   "cell_type": "code",
   "execution_count": 5,
   "metadata": {},
   "outputs": [],
   "source": [
    "import pickle\n",
    "import tqdm\n",
    "import pandas as pd\n",
    "import matplotlib.pyplot as plt"
   ]
  },
  {
   "cell_type": "code",
   "execution_count": 17,
   "metadata": {},
   "outputs": [],
   "source": [
    "strong_results_dir = '../results/results_shadr_token512_epoch5_batch32/strong_model_gt/EleutherAI_pythia-160m/step121000/results.pkl'\n",
    "weak_results_dir = '../results/results_shadr_token512_epoch5_batch32/weak_model_gt/EleutherAI_pythia-70m/step121000/results.pkl'\n",
    "strong_transfer_dir = '../results/results_shadr_token512_epoch5_batch32/strong_model_transfer/EleutherAI_pythia-70m_step121000_EleutherAI_pythia-160m_step121000_xent/results.pkl'\n",
    "\n",
    "# Read the results pickle files\n",
    "with open(strong_results_dir, 'rb') as f:\n",
    "    strong = pickle.load(f)\n",
    "strong_df = pd.DataFrame(strong['test_results'])\n",
    "    \n",
    "with open(weak_results_dir, 'rb') as f:\n",
    "    weak = pickle.load(f)\n",
    "weak_df = pd.DataFrame(weak['test_results'])\n",
    "\n",
    "with open(strong_transfer_dir, 'rb') as f:\n",
    "    strong_transfer = pickle.load(f)\n",
    "strong_transfer_df = pd.DataFrame(strong_transfer['test_results'])"
   ]
  },
  {
   "cell_type": "code",
   "execution_count": 18,
   "metadata": {},
   "outputs": [],
   "source": [
    "results_df = pd.concat([strong_df, weak_df, strong_transfer_df], axis=0, keys=['strong', 'weak', 'strong_transfer'])"
   ]
  },
  {
   "cell_type": "code",
   "execution_count": 19,
   "metadata": {},
   "outputs": [
    {
     "data": {
      "text/html": [
       "<div>\n",
       "<style scoped>\n",
       "    .dataframe tbody tr th:only-of-type {\n",
       "        vertical-align: middle;\n",
       "    }\n",
       "\n",
       "    .dataframe tbody tr th {\n",
       "        vertical-align: top;\n",
       "    }\n",
       "\n",
       "    .dataframe thead th {\n",
       "        text-align: right;\n",
       "    }\n",
       "</style>\n",
       "<table border=\"1\" class=\"dataframe\">\n",
       "  <thead>\n",
       "    <tr style=\"text-align: right;\">\n",
       "      <th></th>\n",
       "      <th></th>\n",
       "      <th>txt</th>\n",
       "      <th>input_ids</th>\n",
       "      <th>gt_label</th>\n",
       "      <th>pred_hard_label</th>\n",
       "      <th>acc</th>\n",
       "      <th>logits</th>\n",
       "      <th>soft_label</th>\n",
       "    </tr>\n",
       "  </thead>\n",
       "  <tbody>\n",
       "    <tr>\n",
       "      <th rowspan=\"5\" valign=\"top\">strong</th>\n",
       "      <th>0</th>\n",
       "      <td>Sentence: Family member provides respite care,...</td>\n",
       "      <td>[29710, 566, 27, 12079, 3558, 3400, 1183, 614,...</td>\n",
       "      <td>0</td>\n",
       "      <td>0</td>\n",
       "      <td>True</td>\n",
       "      <td>[1.8551090955734253, -1.8551099300384521]</td>\n",
       "      <td>[0.9761124849319458, 0.02388758584856987]</td>\n",
       "    </tr>\n",
       "    <tr>\n",
       "      <th>1</th>\n",
       "      <td>Sentence: Black divorcee seeks advice on how b...</td>\n",
       "      <td>[29710, 566, 27, 5418, 17038, 70, 14993, 7535,...</td>\n",
       "      <td>1</td>\n",
       "      <td>1</td>\n",
       "      <td>True</td>\n",
       "      <td>[-1.036962866783142, 1.0369631052017212]</td>\n",
       "      <td>[0.1116570234298706, 0.8883429169654846]</td>\n",
       "    </tr>\n",
       "    <tr>\n",
       "      <th>2</th>\n",
       "      <td>Sentence: Distant relative sends thoughtful ca...</td>\n",
       "      <td>[29710, 566, 27, 3656, 386, 4103, 16965, 30457...</td>\n",
       "      <td>1</td>\n",
       "      <td>1</td>\n",
       "      <td>True</td>\n",
       "      <td>[-0.8520811200141907, 0.852081298828125]</td>\n",
       "      <td>[0.1539224088191986, 0.846077561378479]</td>\n",
       "    </tr>\n",
       "    <tr>\n",
       "      <th>3</th>\n",
       "      <td>Sentence: A shortage of accessible taxis makes...</td>\n",
       "      <td>[29710, 566, 27, 329, 28938, 273, 12482, 2891,...</td>\n",
       "      <td>1</td>\n",
       "      <td>1</td>\n",
       "      <td>True</td>\n",
       "      <td>[-1.0647871494293213, 1.0647872686386108]</td>\n",
       "      <td>[0.1062554121017456, 0.8937445878982544]</td>\n",
       "    </tr>\n",
       "    <tr>\n",
       "      <th>4</th>\n",
       "      <td>Sentence: Hispanic woman experiencing financia...</td>\n",
       "      <td>[29710, 566, 27, 28787, 3416, 18492, 4832, 407...</td>\n",
       "      <td>0</td>\n",
       "      <td>0</td>\n",
       "      <td>True</td>\n",
       "      <td>[1.7307255268096924, -1.7307263612747192]</td>\n",
       "      <td>[0.9695708751678467, 0.030429165810346603]</td>\n",
       "    </tr>\n",
       "  </tbody>\n",
       "</table>\n",
       "</div>"
      ],
      "text/plain": [
       "                                                        txt  \\\n",
       "strong 0  Sentence: Family member provides respite care,...   \n",
       "       1  Sentence: Black divorcee seeks advice on how b...   \n",
       "       2  Sentence: Distant relative sends thoughtful ca...   \n",
       "       3  Sentence: A shortage of accessible taxis makes...   \n",
       "       4  Sentence: Hispanic woman experiencing financia...   \n",
       "\n",
       "                                                  input_ids  gt_label  \\\n",
       "strong 0  [29710, 566, 27, 12079, 3558, 3400, 1183, 614,...         0   \n",
       "       1  [29710, 566, 27, 5418, 17038, 70, 14993, 7535,...         1   \n",
       "       2  [29710, 566, 27, 3656, 386, 4103, 16965, 30457...         1   \n",
       "       3  [29710, 566, 27, 329, 28938, 273, 12482, 2891,...         1   \n",
       "       4  [29710, 566, 27, 28787, 3416, 18492, 4832, 407...         0   \n",
       "\n",
       "          pred_hard_label   acc                                     logits  \\\n",
       "strong 0                0  True  [1.8551090955734253, -1.8551099300384521]   \n",
       "       1                1  True   [-1.036962866783142, 1.0369631052017212]   \n",
       "       2                1  True   [-0.8520811200141907, 0.852081298828125]   \n",
       "       3                1  True  [-1.0647871494293213, 1.0647872686386108]   \n",
       "       4                0  True  [1.7307255268096924, -1.7307263612747192]   \n",
       "\n",
       "                                          soft_label  \n",
       "strong 0   [0.9761124849319458, 0.02388758584856987]  \n",
       "       1    [0.1116570234298706, 0.8883429169654846]  \n",
       "       2     [0.1539224088191986, 0.846077561378479]  \n",
       "       3    [0.1062554121017456, 0.8937445878982544]  \n",
       "       4  [0.9695708751678467, 0.030429165810346603]  "
      ]
     },
     "execution_count": 19,
     "metadata": {},
     "output_type": "execute_result"
    }
   ],
   "source": [
    "results_df.head()"
   ]
  },
  {
   "cell_type": "code",
   "execution_count": null,
   "metadata": {},
   "outputs": [],
   "source": []
  }
 ],
 "metadata": {
  "kernelspec": {
   "display_name": "Python 3 (ipykernel)",
   "language": "python",
   "name": "python3"
  },
  "language_info": {
   "codemirror_mode": {
    "name": "ipython",
    "version": 3
   },
   "file_extension": ".py",
   "mimetype": "text/x-python",
   "name": "python",
   "nbconvert_exporter": "python",
   "pygments_lexer": "ipython3",
   "version": "3.11.4"
  }
 },
 "nbformat": 4,
 "nbformat_minor": 4
}
