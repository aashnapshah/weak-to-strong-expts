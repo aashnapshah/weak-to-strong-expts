{
 "cells": [
  {
   "cell_type": "code",
   "execution_count": 1,
   "metadata": {},
   "outputs": [],
   "source": [
    "import pandas as pd\n",
    "import pickle \n",
    "import numpy as np\n",
    "import os\n",
    "import matplotlib.pyplot as plt"
   ]
  },
  {
   "cell_type": "code",
   "execution_count": null,
   "metadata": {},
   "outputs": [],
   "source": [
    "strong_results_dir = '../results/strong_model_gt/EleutherAI_pythia-160m/step1000/results.pkl'\n",
    "weak_results_dir = '../results/weak_model_gt/EleutherAI_pythia-70m/step1000/results.pkl'\n",
    "strong_transfer_dir = '../results/strong_model_transfer/weak-to-strong-expts/EleutherAI_pythia-70m_step1000_EleutherAI_pythia-160m_step1000_xentz/results.pkl'\n",
    "\n",
    "# Read the results pickle files\n",
    "with open(strong_results_dir, 'rb') as f:\n",
    "    strong = pickle.load(f)\n",
    "     \n",
    "\n",
    "weak_model =  weak"
   ]
  }
 ],
 "metadata": {
  "kernelspec": {
   "display_name": "xray_env",
   "language": "python",
   "name": "python3"
  },
  "language_info": {
   "codemirror_mode": {
    "name": "ipython",
    "version": 3
   },
   "file_extension": ".py",
   "mimetype": "text/x-python",
   "name": "python",
   "nbconvert_exporter": "python",
   "pygments_lexer": "ipython3",
   "version": "3.9.17"
  }
 },
 "nbformat": 4,
 "nbformat_minor": 2
}
