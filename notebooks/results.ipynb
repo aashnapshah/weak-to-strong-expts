{
 "cells": [
  {
   "cell_type": "code",
   "execution_count": 63,
   "metadata": {},
   "outputs": [],
   "source": [
    "import pandas as pd\n",
    "import pickle \n",
    "import numpy as np\n",
    "import os\n",
    "import matplotlib.pyplot as plt"
   ]
  },
  {
   "cell_type": "code",
   "execution_count": 64,
   "metadata": {},
   "outputs": [
    {
     "name": "stdout",
     "output_type": "stream",
     "text": [
      "\u001b[34mresults_boolq\u001b[m\u001b[m/        \u001b[34mresults_pneumothorax\u001b[m\u001b[m/\n",
      "\u001b[34mresults_json\u001b[m\u001b[m/         \u001b[34mresults_sciq\u001b[m\u001b[m/\n"
     ]
    }
   ],
   "source": [
    "ls ../results"
   ]
  },
  {
   "cell_type": "code",
   "execution_count": 66,
   "metadata": {},
   "outputs": [
    {
     "name": "stdout",
     "output_type": "stream",
     "text": [
      "0.8\n",
      "Strong Results:\n",
      "gt_label\n",
      "0    800\n",
      "1    200\n",
      "Name: count, dtype: int64\n",
      "hard_label\n",
      "0    1000\n",
      "Name: count, dtype: int64\n",
      "\n",
      "0.8\n",
      "Weak Results:\n",
      "gt_label\n",
      "0    800\n",
      "1    200\n",
      "Name: count, dtype: int64\n",
      "hard_label\n",
      "0    1000\n",
      "Name: count, dtype: int64\n",
      "\n",
      "0.8\n",
      "Strong Transfer Results:\n",
      "gt_label\n",
      "0    800\n",
      "1    200\n",
      "Name: count, dtype: int64\n",
      "hard_label\n",
      "0    1000\n",
      "Name: count, dtype: int64\n",
      "\n"
     ]
    }
   ],
   "source": [
    "import pickle\n",
    "import pandas as pd\n",
    "\n",
    "strong_results_dir = '../results/results_pneumothorax/strong_model_gt/EleutherAI_pythia-160m/step31000/results.pkl'\n",
    "weak_results_dir = '../results/results_pneumothorax/weak_model_gt/EleutherAI_pythia-70m/step31000/results.pkl'\n",
    "strong_transfer_dir = '../results/results_pneumothorax/strong_model_transfer/EleutherAI_pythia-70m_step31000_EleutherAI_pythia-160m_step1000_xent/results.pkl'\n",
    "\n",
    "# Read the results pickle files\n",
    "with open(strong_results_dir, 'rb') as f:\n",
    "    strong = pickle.load(f)\n",
    "\n",
    "# Read the results pickle files\n",
    "with open(weak_results_dir, 'rb') as f:\n",
    "    weak = pickle.load(f)\n",
    "\n",
    "with open(strong_transfer_dir, 'rb') as f:\n",
    "    strong_transfer = pickle.load(f)\n",
    "\n",
    "df_list = [strong, weak, strong_transfer]\n",
    "df_names = ['Strong', 'Weak', 'Strong Transfer']\n",
    "\n",
    "for i, df in enumerate(df_list):\n",
    "    print(df['avg_acc_test'])\n",
    "    y_labels = pd.DataFrame(df['test_results'])['gt_label']\n",
    "    y_preds = pd.DataFrame(df['test_results'])['hard_label']\n",
    "    print(f\"{df_names[i]} Results:\")\n",
    "    print(y_labels.value_counts())\n",
    "    print(y_preds.value_counts())\n",
    "    print()"
   ]
  },
  {
   "cell_type": "code",
   "execution_count": null,
   "metadata": {},
   "outputs": [],
   "source": []
  }
 ],
 "metadata": {
  "kernelspec": {
   "display_name": "Python 3 (ipykernel)",
   "language": "python",
   "name": "python3"
  },
  "language_info": {
   "codemirror_mode": {
    "name": "ipython",
    "version": 3
   },
   "file_extension": ".py",
   "mimetype": "text/x-python",
   "name": "python",
   "nbconvert_exporter": "python",
   "pygments_lexer": "ipython3",
   "version": "3.12.2"
  }
 },
 "nbformat": 4,
 "nbformat_minor": 4
}
